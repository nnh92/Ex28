{
  "nbformat": 4,
  "nbformat_minor": 0,
  "metadata": {
    "colab": {
      "provenance": [],
      "authorship_tag": "ABX9TyMmBEVyZJwMrRm6tJ4DAYaE",
      "include_colab_link": true
    },
    "kernelspec": {
      "name": "python3",
      "display_name": "Python 3"
    },
    "language_info": {
      "name": "python"
    }
  },
  "cells": [
    {
      "cell_type": "markdown",
      "metadata": {
        "id": "view-in-github",
        "colab_type": "text"
      },
      "source": [
        "<a href=\"https://colab.research.google.com/github/nnh92/Ex28/blob/main/Ex28.ipynb\" target=\"_parent\"><img src=\"https://colab.research.google.com/assets/colab-badge.svg\" alt=\"Open In Colab\"/></a>"
      ]
    },
    {
      "cell_type": "code",
      "execution_count": 5,
      "metadata": {
        "colab": {
          "base_uri": "https://localhost:8080/"
        },
        "id": "RVK3I216tHXF",
        "outputId": "229efdd0-865a-4632-a9c4-a01f140b934e"
      },
      "outputs": [
        {
          "output_type": "stream",
          "name": "stdout",
          "text": [
            "Nhap n: :\n",
            "Dau vao khong hop le!\n"
          ]
        }
      ],
      "source": [
        "try:\n",
        "  n = int(input('Nhap n: '))\n",
        "  for i in range(1,10):\n",
        "    \n",
        "    print('{} x {} = {}'.format(n, i, n*i))\n",
        "\n",
        "except:\n",
        "  print('Dau vao khong hop le!')\n"
      ]
    }
  ]
}